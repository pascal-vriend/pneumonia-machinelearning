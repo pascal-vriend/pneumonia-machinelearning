{
 "cells": [
  {
   "cell_type": "markdown",
   "id": "2c76ae11-5140-4802-98ce-aaa03310ebd6",
   "metadata": {
    "collapsed": false,
    "jupyter": {
     "outputs_hidden": false
    }
   },
   "source": [
    "# Pediatric Model Without Transfer"
   ]
  },
  {
   "cell_type": "markdown",
   "id": "30815ace-d88d-47c5-8479-1d2726a702bf",
   "metadata": {},
   "source": [
    "Utilizes empty model"
   ]
  },
  {
   "cell_type": "markdown",
   "id": "0e728357-a54f-4105-91a9-f29a1bde4c52",
   "metadata": {},
   "source": [
    "Import all needed in this notebook"
   ]
  },
  {
   "cell_type": "code",
   "execution_count": 1,
   "id": "3a5c4d1b-1433-4113-92bc-6cdb9789e5cf",
   "metadata": {
    "tags": []
   },
   "outputs": [],
   "source": [
    "import torch\n",
    "import torch.nn as nn\n",
    "import torch.optim as optim\n",
    "from transformers import AutoImageProcessor, ResNetForImageClassification\n",
    "from sklearn.model_selection import StratifiedKFold,train_test_split\n",
    "from sklearn.metrics import accuracy_score, precision_score, recall_score, f1_score, roc_auc_score, roc_curve\n",
    "from torch.utils.data import DataLoader, TensorDataset, Subset, random_split\n",
    "from torch.optim.lr_scheduler import CosineAnnealingLR\n",
    "import numpy as np\n",
    "from torchvision import datasets, transforms\n",
    "import matplotlib.pyplot as plt\n",
    "from tqdm import tqdm\n",
    "import zipfile\n",
    "import torch.nn.functional as F\n",
    "from tabulate import tabulate"
   ]
  },
  {
   "cell_type": "markdown",
   "id": "942e9f7d-faff-432c-9003-adcf56e823fb",
   "metadata": {},
   "source": [
    "## Model Creation"
   ]
  },
  {
   "cell_type": "markdown",
   "id": "47459a35-36c3-409a-a4a1-a71b704c3d3a",
   "metadata": {},
   "source": [
    "Same code for the model"
   ]
  },
  {
   "cell_type": "code",
   "execution_count": 2,
   "id": "initial_id",
   "metadata": {
    "is_executing": true,
    "tags": []
   },
   "outputs": [],
   "source": [
    "class CustomCNNModel(nn.Module):\n",
    "    def __init__(self):\n",
    "        super(CustomCNNModel, self).__init__()\n",
    "        \n",
    "        self.conv1 = nn.Conv2d(3, 32, kernel_size=3, stride=1, padding=1)\n",
    "        self.conv2 = nn.Conv2d(32, 64, kernel_size=3, stride=1, padding=1)\n",
    "        self.conv3 = nn.Conv2d(64, 128, kernel_size=3, stride=1, padding=1)\n",
    "        \n",
    "        self.pool = nn.MaxPool2d(2, 2)\n",
    "        \n",
    "        self.fc1 = nn.Linear(128 * 28 * 28, 512) \n",
    "        self.fc2 = nn.Linear(512, 256)  \n",
    "        self.fc3 = nn.Linear(256, 2)\n",
    "        \n",
    "        self.dropout = nn.Dropout(p=0.5) \n",
    "\n",
    "    def forward(self, x):\n",
    "        x = self.pool(F.relu(self.conv1(x))) \n",
    "        x = self.pool(F.relu(self.conv2(x)))\n",
    "        x = self.pool(F.relu(self.conv3(x)))\n",
    "        \n",
    "        x = x.view(-1, 128 * 28 * 28)\n",
    "        \n",
    "        x = F.relu(self.fc1(x))\n",
    "        x = self.dropout(x)\n",
    "        x = F.relu(self.fc2(x))\n",
    "        x = self.dropout(x)\n",
    "        x = self.fc3(x)\n",
    "        \n",
    "        return x"
   ]
  },
  {
   "cell_type": "markdown",
   "id": "13927a6c-5e86-4744-b68e-eaa6a6d4d1e8",
   "metadata": {},
   "source": [
    "All layers will remain trainable since we start from fresh."
   ]
  },
  {
   "cell_type": "markdown",
   "id": "34f785f4-a602-4e87-a40e-76e615c97b5f",
   "metadata": {},
   "source": [
    "## Dataset Retrieval"
   ]
  },
  {
   "cell_type": "markdown",
   "id": "c503c333-0fcc-47e1-9929-f354dbd79530",
   "metadata": {},
   "source": [
    "Retrieve dataset and compute X (data images in tensor format) and y (binary encoded label)"
   ]
  },
  {
   "cell_type": "code",
   "execution_count": 3,
   "id": "69181962-34ee-439c-8258-1c8316d14dcb",
   "metadata": {
    "tags": []
   },
   "outputs": [],
   "source": [
    "# with zipfile.ZipFile(\"original_data.zip\", 'r') as zip_ref:\n",
    "#     zip_ref.extractall(\"\")"
   ]
  },
  {
   "cell_type": "code",
   "execution_count": 4,
   "id": "c6923176-d72e-4d0a-9def-1ea04e8e193b",
   "metadata": {
    "tags": []
   },
   "outputs": [
    {
     "name": "stdout",
     "output_type": "stream",
     "text": [
      "Complete Dataset: 400 images\n"
     ]
    }
   ],
   "source": [
    "transform = transforms.Compose([transforms.ToTensor()])\n",
    "\n",
    "dataset = datasets.ImageFolder(root=\"../pediatric_dataset/preprocessed_medium\", transform=transform)\n",
    "\n",
    "test_size = 0.75\n",
    "random_seed = 42\n",
    "\n",
    "labels = [dataset[i][1] for i in range(len(dataset))]\n",
    "\n",
    "print(f\"Complete Dataset: {len(dataset)} images\")"
   ]
  },
  {
   "cell_type": "markdown",
   "id": "233308f3-05b7-4215-8ee4-90dd1f3e0a02",
   "metadata": {},
   "source": [
    "## Training Methods"
   ]
  },
  {
   "cell_type": "code",
   "execution_count": 5,
   "id": "366004f1-53e4-4bab-b2da-88cda3f3f34e",
   "metadata": {},
   "outputs": [],
   "source": [
    "device = torch.device(\"cuda\" if torch.cuda.is_available() else \"cpu\")"
   ]
  },
  {
   "cell_type": "code",
   "execution_count": 6,
   "id": "0033ced5-3fab-4692-8cef-a73e420755a2",
   "metadata": {},
   "outputs": [],
   "source": [
    "def train_model(model, train_loader, test_loader, criterion, optimizer, scheduler, num_epochs=10):\n",
    "    model.train()\n",
    "    \n",
    "    train_losses, train_accuracies = [], []\n",
    "    test_losses, test_accuracies = [], []\n",
    "    test_precisions, test_recalls, test_f1s = [], [], []\n",
    "\n",
    "    print(f\"Device using for training: {device}\")\n",
    "    model = model.to(device)\n",
    "\n",
    "    for epoch in range(num_epochs):\n",
    "        running_loss = 0.0\n",
    "        correct = 0\n",
    "        total = 0\n",
    "\n",
    "        with tqdm(train_loader, unit=\"batch\", desc=f\"Epoch [{epoch+1}/{num_epochs}]\") as tbar:\n",
    "            for inputs, labels in tbar:\n",
    "                inputs, labels = inputs.to(device), labels.to(device)\n",
    "\n",
    "                outputs = model(inputs)\n",
    "                loss = criterion(outputs, labels)\n",
    "\n",
    "                optimizer.zero_grad()\n",
    "                loss.backward()\n",
    "                optimizer.step()\n",
    "\n",
    "                _, predicted = torch.max(outputs, 1)\n",
    "                total += labels.size(0)\n",
    "                correct += (predicted == labels).sum().item()\n",
    "\n",
    "                running_loss += loss.item()\n",
    "\n",
    "        epoch_loss = running_loss / len(train_loader)\n",
    "        epoch_accuracy = 100 * correct / total\n",
    "        train_losses.append(epoch_loss)\n",
    "        train_accuracies.append(epoch_accuracy)\n",
    "\n",
    "        test_loss, test_accuracy, precision, recall, f1 = evaluate_model(model, test_loader, criterion)\n",
    "        test_losses.append(test_loss)\n",
    "        test_accuracies.append(test_accuracy)\n",
    "        test_precisions.append(precision)\n",
    "        test_recalls.append(recall)\n",
    "        test_f1s.append(f1)\n",
    "        \n",
    "        scheduler.step()\n",
    "\n",
    "        print(f\"Epoch [{epoch+1}/{num_epochs}], Train Loss: {epoch_loss:.4f}, Train Accuracy: {epoch_accuracy:.2f}%, Test Loss: {test_loss:.4f}, Test Accuracy: {test_accuracy:.2f}%\")\n",
    "\n",
    "    return train_losses, train_accuracies, test_losses, test_accuracies, test_precisions, test_recalls, test_f1s\n",
    "\n",
    "\n",
    "def k_fold_cross_validation_with_split(model_class, dataset, criterion, optimizer_class, scheduler_class, k=5, num_epochs=10, batch_size=32):\n",
    "    skf = StratifiedKFold(n_splits=k, shuffle=True, random_state=42)\n",
    "\n",
    "    fold_results = []\n",
    "    \n",
    "    labels = [dataset[i][1] for i in range(len(dataset))]\n",
    "\n",
    "    print(f\"Running {k}-Fold Cross-Validation...\")\n",
    "\n",
    "    for fold, (rest_folds_indices, one_fold_indices) in enumerate(skf.split(dataset, labels)):\n",
    "        print(f\"Fold {fold + 1}/{k}: Training on {len(one_fold_indices)} samples, Testing on {len(rest_folds_indices)} samples\")\n",
    "\n",
    "        train_subset = Subset(dataset, one_fold_indices)\n",
    "        test_subset = Subset(dataset, rest_folds_indices)\n",
    "        train_loader = DataLoader(train_subset, batch_size=batch_size, shuffle=True)\n",
    "        test_loader = DataLoader(test_subset, batch_size=batch_size, shuffle=False)\n",
    "\n",
    "        model = model_class()\n",
    "        optimizer = optimizer_class(model.parameters())\n",
    "        scheduler = scheduler_class(optimizer)\n",
    "\n",
    "        train_losses, train_accuracies, test_losses, test_accuracies, test_precisions, test_recalls, test_f1s = train_model(\n",
    "            model, train_loader, test_loader, criterion, optimizer, scheduler, num_epochs\n",
    "        )\n",
    "\n",
    "        fold_results.append({\n",
    "            'fold': fold + 1,\n",
    "            'train_losses': train_losses,\n",
    "            'train_accuracies': train_accuracies,\n",
    "            'test_losses': test_losses,\n",
    "            'test_accuracies': test_accuracies,\n",
    "            'test_precisions': test_precisions,\n",
    "            'test_recalls': test_recalls,\n",
    "            'test_f1s': test_f1s\n",
    "        })\n",
    "        \n",
    "    return fold_results\n",
    "\n",
    "def evaluate_model(model, test_loader, criterion):\n",
    "    model.eval()\n",
    "    test_losses, correct, total = [], 0, 0\n",
    "    all_labels, all_preds = [], []\n",
    "\n",
    "    with torch.no_grad():\n",
    "        for inputs, labels in test_loader:\n",
    "            inputs, labels = inputs.to(device), labels.to(device)\n",
    "\n",
    "            outputs = model(inputs)\n",
    "            loss = criterion(outputs, labels)\n",
    "            test_losses.append(loss.item())\n",
    "\n",
    "            _, predicted = torch.max(outputs, 1)\n",
    "            total += labels.size(0)\n",
    "            correct += (predicted == labels).sum().item()\n",
    "\n",
    "            all_labels.extend(labels.cpu().numpy())\n",
    "            all_preds.extend(predicted.cpu().numpy())\n",
    "\n",
    "    test_loss = sum(test_losses) / len(test_loader)\n",
    "    test_accuracy = 100 * correct / total\n",
    "\n",
    "    precision = precision_score(all_labels, all_preds, average=\"weighted\", zero_division=0)\n",
    "    recall = recall_score(all_labels, all_preds, average=\"weighted\", zero_division=0)\n",
    "    f1 = f1_score(all_labels, all_preds, average=\"weighted\", zero_division=0)\n",
    "\n",
    "    return test_loss, test_accuracy, precision, recall, f1"
   ]
  },
  {
   "cell_type": "markdown",
   "id": "ca1fa222-9251-4b7a-9c44-dcfc8913c06a",
   "metadata": {},
   "source": [
    "## Transfer Training"
   ]
  },
  {
   "cell_type": "code",
   "execution_count": 7,
   "id": "1aa23e89-6483-48eb-a293-b8da8e76a52a",
   "metadata": {},
   "outputs": [
    {
     "name": "stdout",
     "output_type": "stream",
     "text": [
      "Running 4-Fold Cross-Validation...\n",
      "Fold 1/4: Training on 100 samples, Testing on 300 samples\n",
      "Device using for training: cuda\n"
     ]
    },
    {
     "name": "stderr",
     "output_type": "stream",
     "text": [
      "Epoch [1/15]: 100%|█████████████████████████████████████████████████████████████████████████████████████████████████████████████████████████████████████████████████████████████████████████████████████████████████████████████████████████████████████████████████████████████████| 4/4 [00:02<00:00,  1.43batch/s]\n"
     ]
    },
    {
     "name": "stdout",
     "output_type": "stream",
     "text": [
      "Epoch [1/15], Train Loss: 0.7174, Train Accuracy: 51.00%, Test Loss: 0.7030, Test Accuracy: 50.00%\n"
     ]
    },
    {
     "name": "stderr",
     "output_type": "stream",
     "text": [
      "Epoch [2/15]: 100%|█████████████████████████████████████████████████████████████████████████████████████████████████████████████████████████████████████████████████████████████████████████████████████████████████████████████████████████████████████████████████████████████████| 4/4 [00:01<00:00,  3.98batch/s]\n"
     ]
    },
    {
     "name": "stdout",
     "output_type": "stream",
     "text": [
      "Epoch [2/15], Train Loss: 0.7004, Train Accuracy: 51.00%, Test Loss: 0.6901, Test Accuracy: 50.00%\n"
     ]
    },
    {
     "name": "stderr",
     "output_type": "stream",
     "text": [
      "Epoch [3/15]: 100%|█████████████████████████████████████████████████████████████████████████████████████████████████████████████████████████████████████████████████████████████████████████████████████████████████████████████████████████████████████████████████████████████████| 4/4 [00:01<00:00,  3.95batch/s]\n"
     ]
    },
    {
     "name": "stdout",
     "output_type": "stream",
     "text": [
      "Epoch [3/15], Train Loss: 0.6858, Train Accuracy: 66.00%, Test Loss: 0.6726, Test Accuracy: 50.00%\n"
     ]
    },
    {
     "name": "stderr",
     "output_type": "stream",
     "text": [
      "Epoch [4/15]: 100%|█████████████████████████████████████████████████████████████████████████████████████████████████████████████████████████████████████████████████████████████████████████████████████████████████████████████████████████████████████████████████████████████████| 4/4 [00:01<00:00,  3.99batch/s]\n"
     ]
    },
    {
     "name": "stdout",
     "output_type": "stream",
     "text": [
      "Epoch [4/15], Train Loss: 0.6779, Train Accuracy: 51.00%, Test Loss: 0.6555, Test Accuracy: 82.00%\n"
     ]
    },
    {
     "name": "stderr",
     "output_type": "stream",
     "text": [
      "Epoch [5/15]: 100%|█████████████████████████████████████████████████████████████████████████████████████████████████████████████████████████████████████████████████████████████████████████████████████████████████████████████████████████████████████████████████████████████████| 4/4 [00:01<00:00,  3.97batch/s]\n"
     ]
    },
    {
     "name": "stdout",
     "output_type": "stream",
     "text": [
      "Epoch [5/15], Train Loss: 0.6545, Train Accuracy: 68.00%, Test Loss: 0.5950, Test Accuracy: 80.33%\n"
     ]
    },
    {
     "name": "stderr",
     "output_type": "stream",
     "text": [
      "Epoch [6/15]: 100%|█████████████████████████████████████████████████████████████████████████████████████████████████████████████████████████████████████████████████████████████████████████████████████████████████████████████████████████████████████████████████████████████████| 4/4 [00:01<00:00,  3.98batch/s]\n"
     ]
    },
    {
     "name": "stdout",
     "output_type": "stream",
     "text": [
      "Epoch [6/15], Train Loss: 0.5397, Train Accuracy: 74.00%, Test Loss: 0.4725, Test Accuracy: 77.00%\n"
     ]
    },
    {
     "name": "stderr",
     "output_type": "stream",
     "text": [
      "Epoch [7/15]: 100%|█████████████████████████████████████████████████████████████████████████████████████████████████████████████████████████████████████████████████████████████████████████████████████████████████████████████████████████████████████████████████████████████████| 4/4 [00:01<00:00,  3.98batch/s]\n"
     ]
    },
    {
     "name": "stdout",
     "output_type": "stream",
     "text": [
      "Epoch [7/15], Train Loss: 0.5658, Train Accuracy: 69.00%, Test Loss: 0.3840, Test Accuracy: 83.00%\n"
     ]
    },
    {
     "name": "stderr",
     "output_type": "stream",
     "text": [
      "Epoch [8/15]: 100%|█████████████████████████████████████████████████████████████████████████████████████████████████████████████████████████████████████████████████████████████████████████████████████████████████████████████████████████████████████████████████████████████████| 4/4 [00:01<00:00,  3.96batch/s]\n"
     ]
    },
    {
     "name": "stdout",
     "output_type": "stream",
     "text": [
      "Epoch [8/15], Train Loss: 0.5265, Train Accuracy: 70.00%, Test Loss: 0.3714, Test Accuracy: 85.67%\n"
     ]
    },
    {
     "name": "stderr",
     "output_type": "stream",
     "text": [
      "Epoch [9/15]: 100%|█████████████████████████████████████████████████████████████████████████████████████████████████████████████████████████████████████████████████████████████████████████████████████████████████████████████████████████████████████████████████████████████████| 4/4 [00:01<00:00,  3.99batch/s]\n"
     ]
    },
    {
     "name": "stdout",
     "output_type": "stream",
     "text": [
      "Epoch [9/15], Train Loss: 0.4873, Train Accuracy: 80.00%, Test Loss: 0.3859, Test Accuracy: 82.67%\n"
     ]
    },
    {
     "name": "stderr",
     "output_type": "stream",
     "text": [
      "Epoch [10/15]: 100%|████████████████████████████████████████████████████████████████████████████████████████████████████████████████████████████████████████████████████████████████████████████████████████████████████████████████████████████████████████████████████████████████| 4/4 [00:01<00:00,  3.83batch/s]\n"
     ]
    },
    {
     "name": "stdout",
     "output_type": "stream",
     "text": [
      "Epoch [10/15], Train Loss: 0.4445, Train Accuracy: 80.00%, Test Loss: 0.3482, Test Accuracy: 84.33%\n"
     ]
    },
    {
     "name": "stderr",
     "output_type": "stream",
     "text": [
      "Epoch [11/15]: 100%|████████████████████████████████████████████████████████████████████████████████████████████████████████████████████████████████████████████████████████████████████████████████████████████████████████████████████████████████████████████████████████████████| 4/4 [00:00<00:00,  4.03batch/s]\n"
     ]
    },
    {
     "name": "stdout",
     "output_type": "stream",
     "text": [
      "Epoch [11/15], Train Loss: 0.3161, Train Accuracy: 84.00%, Test Loss: 0.3514, Test Accuracy: 83.67%\n"
     ]
    },
    {
     "name": "stderr",
     "output_type": "stream",
     "text": [
      "Epoch [12/15]: 100%|████████████████████████████████████████████████████████████████████████████████████████████████████████████████████████████████████████████████████████████████████████████████████████████████████████████████████████████████████████████████████████████████| 4/4 [00:01<00:00,  3.90batch/s]\n"
     ]
    },
    {
     "name": "stdout",
     "output_type": "stream",
     "text": [
      "Epoch [12/15], Train Loss: 0.4298, Train Accuracy: 84.00%, Test Loss: 0.3403, Test Accuracy: 85.00%\n"
     ]
    },
    {
     "name": "stderr",
     "output_type": "stream",
     "text": [
      "Epoch [13/15]: 100%|████████████████████████████████████████████████████████████████████████████████████████████████████████████████████████████████████████████████████████████████████████████████████████████████████████████████████████████████████████████████████████████████| 4/4 [00:00<00:00,  4.00batch/s]\n"
     ]
    },
    {
     "name": "stdout",
     "output_type": "stream",
     "text": [
      "Epoch [13/15], Train Loss: 0.2898, Train Accuracy: 83.00%, Test Loss: 0.4088, Test Accuracy: 80.33%\n"
     ]
    },
    {
     "name": "stderr",
     "output_type": "stream",
     "text": [
      "Epoch [14/15]: 100%|████████████████████████████████████████████████████████████████████████████████████████████████████████████████████████████████████████████████████████████████████████████████████████████████████████████████████████████████████████████████████████████████| 4/4 [00:00<00:00,  4.05batch/s]\n"
     ]
    },
    {
     "name": "stdout",
     "output_type": "stream",
     "text": [
      "Epoch [14/15], Train Loss: 0.4225, Train Accuracy: 78.00%, Test Loss: 0.3695, Test Accuracy: 82.00%\n"
     ]
    },
    {
     "name": "stderr",
     "output_type": "stream",
     "text": [
      "Epoch [15/15]: 100%|████████████████████████████████████████████████████████████████████████████████████████████████████████████████████████████████████████████████████████████████████████████████████████████████████████████████████████████████████████████████████████████████| 4/4 [00:01<00:00,  3.91batch/s]\n"
     ]
    },
    {
     "name": "stdout",
     "output_type": "stream",
     "text": [
      "Epoch [15/15], Train Loss: 0.3367, Train Accuracy: 82.00%, Test Loss: 0.3497, Test Accuracy: 83.00%\n",
      "Fold 2/4: Training on 100 samples, Testing on 300 samples\n",
      "Device using for training: cuda\n"
     ]
    },
    {
     "name": "stderr",
     "output_type": "stream",
     "text": [
      "Epoch [1/15]: 100%|█████████████████████████████████████████████████████████████████████████████████████████████████████████████████████████████████████████████████████████████████████████████████████████████████████████████████████████████████████████████████████████████████| 4/4 [00:01<00:00,  3.67batch/s]\n"
     ]
    },
    {
     "name": "stdout",
     "output_type": "stream",
     "text": [
      "Epoch [1/15], Train Loss: 0.8219, Train Accuracy: 46.00%, Test Loss: 0.6962, Test Accuracy: 50.00%\n"
     ]
    },
    {
     "name": "stderr",
     "output_type": "stream",
     "text": [
      "Epoch [2/15]: 100%|█████████████████████████████████████████████████████████████████████████████████████████████████████████████████████████████████████████████████████████████████████████████████████████████████████████████████████████████████████████████████████████████████| 4/4 [00:01<00:00,  3.98batch/s]\n"
     ]
    },
    {
     "name": "stdout",
     "output_type": "stream",
     "text": [
      "Epoch [2/15], Train Loss: 0.6893, Train Accuracy: 49.00%, Test Loss: 0.7037, Test Accuracy: 50.00%\n"
     ]
    },
    {
     "name": "stderr",
     "output_type": "stream",
     "text": [
      "Epoch [3/15]: 100%|█████████████████████████████████████████████████████████████████████████████████████████████████████████████████████████████████████████████████████████████████████████████████████████████████████████████████████████████████████████████████████████████████| 4/4 [00:01<00:00,  3.93batch/s]\n"
     ]
    },
    {
     "name": "stdout",
     "output_type": "stream",
     "text": [
      "Epoch [3/15], Train Loss: 0.6842, Train Accuracy: 50.00%, Test Loss: 0.6806, Test Accuracy: 57.67%\n"
     ]
    },
    {
     "name": "stderr",
     "output_type": "stream",
     "text": [
      "Epoch [4/15]: 100%|█████████████████████████████████████████████████████████████████████████████████████████████████████████████████████████████████████████████████████████████████████████████████████████████████████████████████████████████████████████████████████████████████| 4/4 [00:00<00:00,  4.02batch/s]\n"
     ]
    },
    {
     "name": "stdout",
     "output_type": "stream",
     "text": [
      "Epoch [4/15], Train Loss: 0.6556, Train Accuracy: 66.00%, Test Loss: 0.6247, Test Accuracy: 68.33%\n"
     ]
    },
    {
     "name": "stderr",
     "output_type": "stream",
     "text": [
      "Epoch [5/15]: 100%|█████████████████████████████████████████████████████████████████████████████████████████████████████████████████████████████████████████████████████████████████████████████████████████████████████████████████████████████████████████████████████████████████| 4/4 [00:00<00:00,  4.00batch/s]\n"
     ]
    },
    {
     "name": "stdout",
     "output_type": "stream",
     "text": [
      "Epoch [5/15], Train Loss: 0.5182, Train Accuracy: 79.00%, Test Loss: 0.6265, Test Accuracy: 63.00%\n"
     ]
    },
    {
     "name": "stderr",
     "output_type": "stream",
     "text": [
      "Epoch [6/15]: 100%|█████████████████████████████████████████████████████████████████████████████████████████████████████████████████████████████████████████████████████████████████████████████████████████████████████████████████████████████████████████████████████████████████| 4/4 [00:00<00:00,  4.02batch/s]\n"
     ]
    },
    {
     "name": "stdout",
     "output_type": "stream",
     "text": [
      "Epoch [6/15], Train Loss: 0.5495, Train Accuracy: 78.00%, Test Loss: 0.4458, Test Accuracy: 78.33%\n"
     ]
    },
    {
     "name": "stderr",
     "output_type": "stream",
     "text": [
      "Epoch [7/15]: 100%|█████████████████████████████████████████████████████████████████████████████████████████████████████████████████████████████████████████████████████████████████████████████████████████████████████████████████████████████████████████████████████████████████| 4/4 [00:01<00:00,  3.82batch/s]\n"
     ]
    },
    {
     "name": "stdout",
     "output_type": "stream",
     "text": [
      "Epoch [7/15], Train Loss: 0.3423, Train Accuracy: 83.00%, Test Loss: 0.4136, Test Accuracy: 79.67%\n"
     ]
    },
    {
     "name": "stderr",
     "output_type": "stream",
     "text": [
      "Epoch [8/15]: 100%|█████████████████████████████████████████████████████████████████████████████████████████████████████████████████████████████████████████████████████████████████████████████████████████████████████████████████████████████████████████████████████████████████| 4/4 [00:01<00:00,  3.89batch/s]\n"
     ]
    },
    {
     "name": "stdout",
     "output_type": "stream",
     "text": [
      "Epoch [8/15], Train Loss: 0.2776, Train Accuracy: 86.00%, Test Loss: 0.4397, Test Accuracy: 80.67%\n"
     ]
    },
    {
     "name": "stderr",
     "output_type": "stream",
     "text": [
      "Epoch [9/15]: 100%|█████████████████████████████████████████████████████████████████████████████████████████████████████████████████████████████████████████████████████████████████████████████████████████████████████████████████████████████████████████████████████████████████| 4/4 [00:01<00:00,  3.95batch/s]\n"
     ]
    },
    {
     "name": "stdout",
     "output_type": "stream",
     "text": [
      "Epoch [9/15], Train Loss: 0.2566, Train Accuracy: 87.00%, Test Loss: 0.3717, Test Accuracy: 82.33%\n"
     ]
    },
    {
     "name": "stderr",
     "output_type": "stream",
     "text": [
      "Epoch [10/15]: 100%|████████████████████████████████████████████████████████████████████████████████████████████████████████████████████████████████████████████████████████████████████████████████████████████████████████████████████████████████████████████████████████████████| 4/4 [00:00<00:00,  4.00batch/s]\n"
     ]
    },
    {
     "name": "stdout",
     "output_type": "stream",
     "text": [
      "Epoch [10/15], Train Loss: 0.2027, Train Accuracy: 90.00%, Test Loss: 0.3893, Test Accuracy: 81.33%\n"
     ]
    },
    {
     "name": "stderr",
     "output_type": "stream",
     "text": [
      "Epoch [11/15]: 100%|████████████████████████████████████████████████████████████████████████████████████████████████████████████████████████████████████████████████████████████████████████████████████████████████████████████████████████████████████████████████████████████████| 4/4 [00:01<00:00,  3.94batch/s]\n"
     ]
    },
    {
     "name": "stdout",
     "output_type": "stream",
     "text": [
      "Epoch [11/15], Train Loss: 0.1908, Train Accuracy: 91.00%, Test Loss: 0.3739, Test Accuracy: 82.67%\n"
     ]
    },
    {
     "name": "stderr",
     "output_type": "stream",
     "text": [
      "Epoch [12/15]: 100%|████████████████████████████████████████████████████████████████████████████████████████████████████████████████████████████████████████████████████████████████████████████████████████████████████████████████████████████████████████████████████████████████| 4/4 [00:01<00:00,  4.00batch/s]\n"
     ]
    },
    {
     "name": "stdout",
     "output_type": "stream",
     "text": [
      "Epoch [12/15], Train Loss: 0.1812, Train Accuracy: 94.00%, Test Loss: 0.3797, Test Accuracy: 83.00%\n"
     ]
    },
    {
     "name": "stderr",
     "output_type": "stream",
     "text": [
      "Epoch [13/15]: 100%|████████████████████████████████████████████████████████████████████████████████████████████████████████████████████████████████████████████████████████████████████████████████████████████████████████████████████████████████████████████████████████████████| 4/4 [00:00<00:00,  4.01batch/s]\n"
     ]
    },
    {
     "name": "stdout",
     "output_type": "stream",
     "text": [
      "Epoch [13/15], Train Loss: 0.1555, Train Accuracy: 94.00%, Test Loss: 0.3729, Test Accuracy: 83.33%\n"
     ]
    },
    {
     "name": "stderr",
     "output_type": "stream",
     "text": [
      "Epoch [14/15]: 100%|████████████████████████████████████████████████████████████████████████████████████████████████████████████████████████████████████████████████████████████████████████████████████████████████████████████████████████████████████████████████████████████████| 4/4 [00:00<00:00,  4.01batch/s]\n"
     ]
    },
    {
     "name": "stdout",
     "output_type": "stream",
     "text": [
      "Epoch [14/15], Train Loss: 0.1569, Train Accuracy: 93.00%, Test Loss: 0.3813, Test Accuracy: 82.33%\n"
     ]
    },
    {
     "name": "stderr",
     "output_type": "stream",
     "text": [
      "Epoch [15/15]: 100%|████████████████████████████████████████████████████████████████████████████████████████████████████████████████████████████████████████████████████████████████████████████████████████████████████████████████████████████████████████████████████████████████| 4/4 [00:01<00:00,  3.91batch/s]\n"
     ]
    },
    {
     "name": "stdout",
     "output_type": "stream",
     "text": [
      "Epoch [15/15], Train Loss: 0.1532, Train Accuracy: 92.00%, Test Loss: 0.3748, Test Accuracy: 82.67%\n",
      "Fold 3/4: Training on 100 samples, Testing on 300 samples\n",
      "Device using for training: cuda\n"
     ]
    },
    {
     "name": "stderr",
     "output_type": "stream",
     "text": [
      "Epoch [1/15]: 100%|█████████████████████████████████████████████████████████████████████████████████████████████████████████████████████████████████████████████████████████████████████████████████████████████████████████████████████████████████████████████████████████████████| 4/4 [00:01<00:00,  3.91batch/s]\n"
     ]
    },
    {
     "name": "stdout",
     "output_type": "stream",
     "text": [
      "Epoch [1/15], Train Loss: 0.8581, Train Accuracy: 50.00%, Test Loss: 0.7002, Test Accuracy: 50.00%\n"
     ]
    },
    {
     "name": "stderr",
     "output_type": "stream",
     "text": [
      "Epoch [2/15]: 100%|█████████████████████████████████████████████████████████████████████████████████████████████████████████████████████████████████████████████████████████████████████████████████████████████████████████████████████████████████████████████████████████████████| 4/4 [00:01<00:00,  3.99batch/s]\n"
     ]
    },
    {
     "name": "stdout",
     "output_type": "stream",
     "text": [
      "Epoch [2/15], Train Loss: 0.7005, Train Accuracy: 48.00%, Test Loss: 0.6922, Test Accuracy: 50.00%\n"
     ]
    },
    {
     "name": "stderr",
     "output_type": "stream",
     "text": [
      "Epoch [3/15]: 100%|█████████████████████████████████████████████████████████████████████████████████████████████████████████████████████████████████████████████████████████████████████████████████████████████████████████████████████████████████████████████████████████████████| 4/4 [00:01<00:00,  3.93batch/s]\n"
     ]
    },
    {
     "name": "stdout",
     "output_type": "stream",
     "text": [
      "Epoch [3/15], Train Loss: 0.6984, Train Accuracy: 50.00%, Test Loss: 0.6903, Test Accuracy: 50.00%\n"
     ]
    },
    {
     "name": "stderr",
     "output_type": "stream",
     "text": [
      "Epoch [4/15]: 100%|█████████████████████████████████████████████████████████████████████████████████████████████████████████████████████████████████████████████████████████████████████████████████████████████████████████████████████████████████████████████████████████████████| 4/4 [00:01<00:00,  3.93batch/s]\n"
     ]
    },
    {
     "name": "stdout",
     "output_type": "stream",
     "text": [
      "Epoch [4/15], Train Loss: 0.6880, Train Accuracy: 62.00%, Test Loss: 0.6895, Test Accuracy: 50.00%\n"
     ]
    },
    {
     "name": "stderr",
     "output_type": "stream",
     "text": [
      "Epoch [5/15]: 100%|█████████████████████████████████████████████████████████████████████████████████████████████████████████████████████████████████████████████████████████████████████████████████████████████████████████████████████████████████████████████████████████████████| 4/4 [00:01<00:00,  3.99batch/s]\n"
     ]
    },
    {
     "name": "stdout",
     "output_type": "stream",
     "text": [
      "Epoch [5/15], Train Loss: 0.6857, Train Accuracy: 50.00%, Test Loss: 0.6874, Test Accuracy: 50.00%\n"
     ]
    },
    {
     "name": "stderr",
     "output_type": "stream",
     "text": [
      "Epoch [6/15]: 100%|█████████████████████████████████████████████████████████████████████████████████████████████████████████████████████████████████████████████████████████████████████████████████████████████████████████████████████████████████████████████████████████████████| 4/4 [00:00<00:00,  4.02batch/s]\n"
     ]
    },
    {
     "name": "stdout",
     "output_type": "stream",
     "text": [
      "Epoch [6/15], Train Loss: 0.6840, Train Accuracy: 50.00%, Test Loss: 0.6842, Test Accuracy: 50.00%\n"
     ]
    },
    {
     "name": "stderr",
     "output_type": "stream",
     "text": [
      "Epoch [7/15]: 100%|█████████████████████████████████████████████████████████████████████████████████████████████████████████████████████████████████████████████████████████████████████████████████████████████████████████████████████████████████████████████████████████████████| 4/4 [00:01<00:00,  3.97batch/s]\n"
     ]
    },
    {
     "name": "stdout",
     "output_type": "stream",
     "text": [
      "Epoch [7/15], Train Loss: 0.6863, Train Accuracy: 50.00%, Test Loss: 0.6747, Test Accuracy: 67.67%\n"
     ]
    },
    {
     "name": "stderr",
     "output_type": "stream",
     "text": [
      "Epoch [8/15]: 100%|█████████████████████████████████████████████████████████████████████████████████████████████████████████████████████████████████████████████████████████████████████████████████████████████████████████████████████████████████████████████████████████████████| 4/4 [00:00<00:00,  4.02batch/s]\n"
     ]
    },
    {
     "name": "stdout",
     "output_type": "stream",
     "text": [
      "Epoch [8/15], Train Loss: 0.6739, Train Accuracy: 77.00%, Test Loss: 0.6676, Test Accuracy: 52.67%\n"
     ]
    },
    {
     "name": "stderr",
     "output_type": "stream",
     "text": [
      "Epoch [9/15]: 100%|█████████████████████████████████████████████████████████████████████████████████████████████████████████████████████████████████████████████████████████████████████████████████████████████████████████████████████████████████████████████████████████████████| 4/4 [00:01<00:00,  3.97batch/s]\n"
     ]
    },
    {
     "name": "stdout",
     "output_type": "stream",
     "text": [
      "Epoch [9/15], Train Loss: 0.6364, Train Accuracy: 62.00%, Test Loss: 0.6254, Test Accuracy: 58.33%\n"
     ]
    },
    {
     "name": "stderr",
     "output_type": "stream",
     "text": [
      "Epoch [10/15]: 100%|████████████████████████████████████████████████████████████████████████████████████████████████████████████████████████████████████████████████████████████████████████████████████████████████████████████████████████████████████████████████████████████████| 4/4 [00:01<00:00,  3.98batch/s]\n"
     ]
    },
    {
     "name": "stdout",
     "output_type": "stream",
     "text": [
      "Epoch [10/15], Train Loss: 0.5878, Train Accuracy: 69.00%, Test Loss: 0.7608, Test Accuracy: 50.00%\n"
     ]
    },
    {
     "name": "stderr",
     "output_type": "stream",
     "text": [
      "Epoch [11/15]: 100%|████████████████████████████████████████████████████████████████████████████████████████████████████████████████████████████████████████████████████████████████████████████████████████████████████████████████████████████████████████████████████████████████| 4/4 [00:01<00:00,  3.98batch/s]\n"
     ]
    },
    {
     "name": "stdout",
     "output_type": "stream",
     "text": [
      "Epoch [11/15], Train Loss: 0.6435, Train Accuracy: 57.00%, Test Loss: 0.6280, Test Accuracy: 57.00%\n"
     ]
    },
    {
     "name": "stderr",
     "output_type": "stream",
     "text": [
      "Epoch [12/15]: 100%|████████████████████████████████████████████████████████████████████████████████████████████████████████████████████████████████████████████████████████████████████████████████████████████████████████████████████████████████████████████████████████████████| 4/4 [00:01<00:00,  3.95batch/s]\n"
     ]
    },
    {
     "name": "stdout",
     "output_type": "stream",
     "text": [
      "Epoch [12/15], Train Loss: 0.5996, Train Accuracy: 58.00%, Test Loss: 0.5575, Test Accuracy: 68.33%\n"
     ]
    },
    {
     "name": "stderr",
     "output_type": "stream",
     "text": [
      "Epoch [13/15]: 100%|████████████████████████████████████████████████████████████████████████████████████████████████████████████████████████████████████████████████████████████████████████████████████████████████████████████████████████████████████████████████████████████████| 4/4 [00:01<00:00,  3.96batch/s]\n"
     ]
    },
    {
     "name": "stdout",
     "output_type": "stream",
     "text": [
      "Epoch [13/15], Train Loss: 0.5196, Train Accuracy: 80.00%, Test Loss: 0.5334, Test Accuracy: 76.33%\n"
     ]
    },
    {
     "name": "stderr",
     "output_type": "stream",
     "text": [
      "Epoch [14/15]: 100%|████████████████████████████████████████████████████████████████████████████████████████████████████████████████████████████████████████████████████████████████████████████████████████████████████████████████████████████████████████████████████████████████| 4/4 [00:01<00:00,  3.96batch/s]\n"
     ]
    },
    {
     "name": "stdout",
     "output_type": "stream",
     "text": [
      "Epoch [14/15], Train Loss: 0.5229, Train Accuracy: 78.00%, Test Loss: 0.5371, Test Accuracy: 76.33%\n"
     ]
    },
    {
     "name": "stderr",
     "output_type": "stream",
     "text": [
      "Epoch [15/15]: 100%|████████████████████████████████████████████████████████████████████████████████████████████████████████████████████████████████████████████████████████████████████████████████████████████████████████████████████████████████████████████████████████████████| 4/4 [00:01<00:00,  3.79batch/s]\n"
     ]
    },
    {
     "name": "stdout",
     "output_type": "stream",
     "text": [
      "Epoch [15/15], Train Loss: 0.5112, Train Accuracy: 81.00%, Test Loss: 0.5300, Test Accuracy: 77.00%\n",
      "Fold 4/4: Training on 100 samples, Testing on 300 samples\n",
      "Device using for training: cuda\n"
     ]
    },
    {
     "name": "stderr",
     "output_type": "stream",
     "text": [
      "Epoch [1/15]: 100%|█████████████████████████████████████████████████████████████████████████████████████████████████████████████████████████████████████████████████████████████████████████████████████████████████████████████████████████████████████████████████████████████████| 4/4 [00:01<00:00,  3.95batch/s]\n"
     ]
    },
    {
     "name": "stdout",
     "output_type": "stream",
     "text": [
      "Epoch [1/15], Train Loss: 0.7650, Train Accuracy: 44.00%, Test Loss: 0.6930, Test Accuracy: 50.00%\n"
     ]
    },
    {
     "name": "stderr",
     "output_type": "stream",
     "text": [
      "Epoch [2/15]: 100%|█████████████████████████████████████████████████████████████████████████████████████████████████████████████████████████████████████████████████████████████████████████████████████████████████████████████████████████████████████████████████████████████████| 4/4 [00:01<00:00,  4.00batch/s]\n"
     ]
    },
    {
     "name": "stdout",
     "output_type": "stream",
     "text": [
      "Epoch [2/15], Train Loss: 0.6900, Train Accuracy: 53.00%, Test Loss: 0.6993, Test Accuracy: 50.00%\n"
     ]
    },
    {
     "name": "stderr",
     "output_type": "stream",
     "text": [
      "Epoch [3/15]: 100%|█████████████████████████████████████████████████████████████████████████████████████████████████████████████████████████████████████████████████████████████████████████████████████████████████████████████████████████████████████████████████████████████████| 4/4 [00:01<00:00,  3.91batch/s]\n"
     ]
    },
    {
     "name": "stdout",
     "output_type": "stream",
     "text": [
      "Epoch [3/15], Train Loss: 0.6935, Train Accuracy: 50.00%, Test Loss: 0.6889, Test Accuracy: 50.00%\n"
     ]
    },
    {
     "name": "stderr",
     "output_type": "stream",
     "text": [
      "Epoch [4/15]: 100%|█████████████████████████████████████████████████████████████████████████████████████████████████████████████████████████████████████████████████████████████████████████████████████████████████████████████████████████████████████████████████████████████████| 4/4 [00:01<00:00,  3.95batch/s]\n"
     ]
    },
    {
     "name": "stdout",
     "output_type": "stream",
     "text": [
      "Epoch [4/15], Train Loss: 0.6791, Train Accuracy: 60.00%, Test Loss: 0.6950, Test Accuracy: 50.00%\n"
     ]
    },
    {
     "name": "stderr",
     "output_type": "stream",
     "text": [
      "Epoch [5/15]: 100%|█████████████████████████████████████████████████████████████████████████████████████████████████████████████████████████████████████████████████████████████████████████████████████████████████████████████████████████████████████████████████████████████████| 4/4 [00:01<00:00,  3.94batch/s]\n"
     ]
    },
    {
     "name": "stdout",
     "output_type": "stream",
     "text": [
      "Epoch [5/15], Train Loss: 0.6600, Train Accuracy: 51.00%, Test Loss: 0.6700, Test Accuracy: 51.67%\n"
     ]
    },
    {
     "name": "stderr",
     "output_type": "stream",
     "text": [
      "Epoch [6/15]: 100%|█████████████████████████████████████████████████████████████████████████████████████████████████████████████████████████████████████████████████████████████████████████████████████████████████████████████████████████████████████████████████████████████████| 4/4 [00:01<00:00,  3.96batch/s]\n"
     ]
    },
    {
     "name": "stdout",
     "output_type": "stream",
     "text": [
      "Epoch [6/15], Train Loss: 0.5976, Train Accuracy: 65.00%, Test Loss: 0.5630, Test Accuracy: 76.67%\n"
     ]
    },
    {
     "name": "stderr",
     "output_type": "stream",
     "text": [
      "Epoch [7/15]: 100%|█████████████████████████████████████████████████████████████████████████████████████████████████████████████████████████████████████████████████████████████████████████████████████████████████████████████████████████████████████████████████████████████████| 4/4 [00:01<00:00,  3.95batch/s]\n"
     ]
    },
    {
     "name": "stdout",
     "output_type": "stream",
     "text": [
      "Epoch [7/15], Train Loss: 0.4574, Train Accuracy: 77.00%, Test Loss: 0.5290, Test Accuracy: 74.00%\n"
     ]
    },
    {
     "name": "stderr",
     "output_type": "stream",
     "text": [
      "Epoch [8/15]: 100%|█████████████████████████████████████████████████████████████████████████████████████████████████████████████████████████████████████████████████████████████████████████████████████████████████████████████████████████████████████████████████████████████████| 4/4 [00:01<00:00,  3.97batch/s]\n"
     ]
    },
    {
     "name": "stdout",
     "output_type": "stream",
     "text": [
      "Epoch [8/15], Train Loss: 0.4243, Train Accuracy: 86.00%, Test Loss: 0.5265, Test Accuracy: 76.33%\n"
     ]
    },
    {
     "name": "stderr",
     "output_type": "stream",
     "text": [
      "Epoch [9/15]: 100%|█████████████████████████████████████████████████████████████████████████████████████████████████████████████████████████████████████████████████████████████████████████████████████████████████████████████████████████████████████████████████████████████████| 4/4 [00:01<00:00,  3.99batch/s]\n"
     ]
    },
    {
     "name": "stdout",
     "output_type": "stream",
     "text": [
      "Epoch [9/15], Train Loss: 0.4620, Train Accuracy: 84.00%, Test Loss: 0.9444, Test Accuracy: 65.33%\n"
     ]
    },
    {
     "name": "stderr",
     "output_type": "stream",
     "text": [
      "Epoch [10/15]: 100%|████████████████████████████████████████████████████████████████████████████████████████████████████████████████████████████████████████████████████████████████████████████████████████████████████████████████████████████████████████████████████████████████| 4/4 [00:01<00:00,  3.95batch/s]\n"
     ]
    },
    {
     "name": "stdout",
     "output_type": "stream",
     "text": [
      "Epoch [10/15], Train Loss: 0.6924, Train Accuracy: 67.00%, Test Loss: 0.4287, Test Accuracy: 80.00%\n"
     ]
    },
    {
     "name": "stderr",
     "output_type": "stream",
     "text": [
      "Epoch [11/15]: 100%|████████████████████████████████████████████████████████████████████████████████████████████████████████████████████████████████████████████████████████████████████████████████████████████████████████████████████████████████████████████████████████████████| 4/4 [00:01<00:00,  3.96batch/s]\n"
     ]
    },
    {
     "name": "stdout",
     "output_type": "stream",
     "text": [
      "Epoch [11/15], Train Loss: 0.3496, Train Accuracy: 82.00%, Test Loss: 0.5111, Test Accuracy: 71.00%\n"
     ]
    },
    {
     "name": "stderr",
     "output_type": "stream",
     "text": [
      "Epoch [12/15]: 100%|████████████████████████████████████████████████████████████████████████████████████████████████████████████████████████████████████████████████████████████████████████████████████████████████████████████████████████████████████████████████████████████████| 4/4 [00:01<00:00,  3.97batch/s]\n"
     ]
    },
    {
     "name": "stdout",
     "output_type": "stream",
     "text": [
      "Epoch [12/15], Train Loss: 0.4342, Train Accuracy: 80.00%, Test Loss: 0.4828, Test Accuracy: 75.00%\n"
     ]
    },
    {
     "name": "stderr",
     "output_type": "stream",
     "text": [
      "Epoch [13/15]: 100%|████████████████████████████████████████████████████████████████████████████████████████████████████████████████████████████████████████████████████████████████████████████████████████████████████████████████████████████████████████████████████████████████| 4/4 [00:01<00:00,  3.94batch/s]\n"
     ]
    },
    {
     "name": "stdout",
     "output_type": "stream",
     "text": [
      "Epoch [13/15], Train Loss: 0.3677, Train Accuracy: 84.00%, Test Loss: 0.4379, Test Accuracy: 78.00%\n"
     ]
    },
    {
     "name": "stderr",
     "output_type": "stream",
     "text": [
      "Epoch [14/15]: 100%|████████████████████████████████████████████████████████████████████████████████████████████████████████████████████████████████████████████████████████████████████████████████████████████████████████████████████████████████████████████████████████████████| 4/4 [00:01<00:00,  3.94batch/s]\n"
     ]
    },
    {
     "name": "stdout",
     "output_type": "stream",
     "text": [
      "Epoch [14/15], Train Loss: 0.5089, Train Accuracy: 85.00%, Test Loss: 0.4263, Test Accuracy: 80.67%\n"
     ]
    },
    {
     "name": "stderr",
     "output_type": "stream",
     "text": [
      "Epoch [15/15]: 100%|████████████████████████████████████████████████████████████████████████████████████████████████████████████████████████████████████████████████████████████████████████████████████████████████████████████████████████████████████████████████████████████████| 4/4 [00:01<00:00,  3.92batch/s]\n"
     ]
    },
    {
     "name": "stdout",
     "output_type": "stream",
     "text": [
      "Epoch [15/15], Train Loss: 0.3407, Train Accuracy: 84.00%, Test Loss: 0.4245, Test Accuracy: 80.33%\n"
     ]
    }
   ],
   "source": [
    "criterion = nn.CrossEntropyLoss()\n",
    "optimizer_class = lambda params: optim.Adam(params, lr=1e-3, weight_decay=1e-2)\n",
    "scheduler_class = lambda optimizer: CosineAnnealingLR(optimizer, T_max=15)\n",
    "model_class = CustomCNNModel\n",
    "num_epochs = 15\n",
    "\n",
    "results = k_fold_cross_validation_with_split(model_class, dataset, criterion, optimizer_class, scheduler_class, k=4, num_epochs=num_epochs, batch_size=32)"
   ]
  },
  {
   "cell_type": "markdown",
   "id": "c1e52b26-8a86-457a-be5e-ac36a5ec64d4",
   "metadata": {},
   "source": [
    "## Evaluation"
   ]
  },
  {
   "cell_type": "code",
   "execution_count": 8,
   "id": "74f43134-f123-4852-9b57-6ab2d18a78c8",
   "metadata": {},
   "outputs": [],
   "source": [
    "def compute_confidence_interval(data):\n",
    "    mean_val = np.mean(data)\n",
    "    std_val = np.std(data)\n",
    "    n = len(data)\n",
    "    margin_of_error = 1.96 * (std_val / np.sqrt(n))\n",
    "    \n",
    "    lower_bound = mean_val - margin_of_error\n",
    "    upper_bound = mean_val + margin_of_error\n",
    "    \n",
    "    return mean_val, lower_bound, upper_bound"
   ]
  },
  {
   "cell_type": "code",
   "execution_count": 10,
   "id": "bf6502d0-886e-4ce2-aabe-3f174e892390",
   "metadata": {},
   "outputs": [
    {
     "name": "stdout",
     "output_type": "stream",
     "text": [
      "Test Accuracies: [83.0, 82.66666666666667, 77.0, 80.33333333333333]\n",
      "Test Precisions: [0.8490011750881316, 0.8295373027259685, 0.7804838635209381, 0.8063973063973063]\n",
      "Test Rccuracies: [0.83, 0.8266666666666667, 0.77, 0.8033333333333333]\n",
      "Test F1s: [0.8276541819205857, 0.8262883613202084, 0.7678305050527708, 0.8028404344193818]\n",
      "\n",
      "Overall Performance with 95% Confidence Intervals:\n",
      "+-----------------------+---------+----------------+----------------+\n",
      "| Metric                |    Mean |   95% CI Lower |   95% CI Upper |\n",
      "+=======================+=========+================+================+\n",
      "| Training Loss         |  0.3354 |         0.2114 |         0.4595 |\n",
      "+-----------------------+---------+----------------+----------------+\n",
      "| Test Loss             |  0.4198 |         0.352  |         0.4875 |\n",
      "+-----------------------+---------+----------------+----------------+\n",
      "| Training Accuracy (%) | 84.75   |        80.51   |        88.99   |\n",
      "+-----------------------+---------+----------------+----------------+\n",
      "| Test Accuracy (%)     | 80.75   |        78.4    |        83.1    |\n",
      "+-----------------------+---------+----------------+----------------+\n",
      "| Test Precision (%)    | 81.64   |        79.12   |        84.15   |\n",
      "+-----------------------+---------+----------------+----------------+\n",
      "| Test Recall (%)       | 80.75   |        78.4    |        83.1    |\n",
      "+-----------------------+---------+----------------+----------------+\n",
      "| Test F1-score (%)     | 80.62   |        78.24   |        82.99   |\n",
      "+-----------------------+---------+----------------+----------------+\n"
     ]
    }
   ],
   "source": [
    "# for result in results:\n",
    "#     print(f\"Fold {result['fold']}:\")\n",
    "#     print(f\"  Train Accuracy: {result['train_accuracies'][-1]:.2f}%\")\n",
    "#     print(f\"  Test Accuracy: {result['test_accuracies'][-1]:.2f}%\")\n",
    "#     print(f\"  Test Precision: {result['test_precisions'][-1] * 100:.2f}%\")\n",
    "#     print(f\"  Test Recall: {result['test_recalls'][-1] * 100:.2f}%\")\n",
    "#     print(f\"  Test F1-score: {result['test_f1s'][-1] * 100:.2f}%\")\n",
    "\n",
    "train_losses = [fold['train_losses'][-1] for fold in results]\n",
    "train_accuracies = [fold['train_accuracies'][-1] for fold in results]\n",
    "test_losses = [fold['test_losses'][-1] for fold in results]\n",
    "test_accuracies = [fold['test_accuracies'][-1] for fold in results]\n",
    "test_precisions = [fold['test_precisions'][-1] for fold in results]\n",
    "test_recalls = [fold['test_recalls'][-1] for fold in results]\n",
    "test_f1s = [fold['test_f1s'][-1] for fold in results]\n",
    "\n",
    "print(f\"Test Accuracies: {test_accuracies}\")\n",
    "print(f\"Test Precisions: {test_precisions}\")\n",
    "print(f\"Test Rccuracies: {test_recalls}\")\n",
    "print(f\"Test F1s: {test_f1s}\")\n",
    "\n",
    "avg_train_loss, ci_train_loss_low, ci_train_loss_high = compute_confidence_interval(train_losses)\n",
    "avg_train_accuracy, ci_train_acc_low, ci_train_acc_high = compute_confidence_interval(train_accuracies)\n",
    "avg_test_loss, ci_test_loss_low, ci_test_loss_high = compute_confidence_interval(test_losses)\n",
    "avg_test_accuracy, ci_test_acc_low, ci_test_acc_high = compute_confidence_interval(test_accuracies)\n",
    "avg_test_precision, ci_test_prec_low, ci_test_prec_high = compute_confidence_interval(test_precisions)\n",
    "avg_test_recall, ci_test_rec_low, ci_test_rec_high = compute_confidence_interval(test_recalls)\n",
    "avg_test_f1, ci_test_f1_low, ci_test_f1_high = compute_confidence_interval(test_f1s)\n",
    "\n",
    "headers = [\"Metric\", \"Mean\", \"95% CI Lower\", \"95% CI Upper\"]\n",
    "data = [\n",
    "    [\"Training Loss\", f\"{avg_train_loss:.4f}\", f\"{ci_train_loss_low:.4f}\", f\"{ci_train_loss_high:.4f}\"],\n",
    "    [\"Test Loss\", f\"{avg_test_loss:.4f}\", f\"{ci_test_loss_low:.4f}\", f\"{ci_test_loss_high:.4f}\"],\n",
    "    [\"Training Accuracy (%)\", f\"{avg_train_accuracy:.2f}\", f\"{ci_train_acc_low:.2f}\", f\"{ci_train_acc_high:.2f}\"],\n",
    "    [\"Test Accuracy (%)\", f\"{avg_test_accuracy:.2f}\", f\"{ci_test_acc_low:.2f}\", f\"{ci_test_acc_high:.2f}\"],\n",
    "    [\"Test Precision (%)\", f\"{avg_test_precision * 100:.2f}\", f\"{ci_test_prec_low * 100:.2f}\", f\"{ci_test_prec_high * 100:.2f}\"],\n",
    "    [\"Test Recall (%)\", f\"{avg_test_recall * 100:.2f}\", f\"{ci_test_rec_low * 100:.2f}\", f\"{ci_test_rec_high * 100:.2f}\"],\n",
    "    [\"Test F1-score (%)\", f\"{avg_test_f1 * 100:.2f}\", f\"{ci_test_f1_low * 100:.2f}\", f\"{ci_test_f1_high * 100:.2f}\"]\n",
    "]\n",
    "\n",
    "print(\"\\nOverall Performance with 95% Confidence Intervals:\")\n",
    "print(tabulate(data, headers=headers, tablefmt=\"grid\"))"
   ]
  },
  {
   "cell_type": "code",
   "execution_count": null,
   "id": "abd5d3f5-94b8-4dea-8a1c-19c6ba932136",
   "metadata": {},
   "outputs": [],
   "source": []
  }
 ],
 "metadata": {
  "kernelspec": {
   "display_name": "Python 3 (ipykernel)",
   "language": "python",
   "name": "python3"
  },
  "language_info": {
   "codemirror_mode": {
    "name": "ipython",
    "version": 3
   },
   "file_extension": ".py",
   "mimetype": "text/x-python",
   "name": "python",
   "nbconvert_exporter": "python",
   "pygments_lexer": "ipython3",
   "version": "3.11.0"
  }
 },
 "nbformat": 4,
 "nbformat_minor": 5
}
