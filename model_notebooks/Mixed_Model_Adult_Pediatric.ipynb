{
 "cells": [
  {
   "cell_type": "markdown",
   "id": "2c76ae11-5140-4802-98ce-aaa03310ebd6",
   "metadata": {
    "collapsed": false,
    "jupyter": {
     "outputs_hidden": false
    },
    "user_expressions": []
   },
   "source": [
    "# Model - Mixed Adult and Pediatric Data"
   ]
  },
  {
   "cell_type": "markdown",
   "id": "0e728357-a54f-4105-91a9-f29a1bde4c52",
   "metadata": {
    "user_expressions": []
   },
   "source": [
    "Import all needed in this notebook"
   ]
  },
  {
   "cell_type": "code",
   "execution_count": 15,
   "id": "3a5c4d1b-1433-4113-92bc-6cdb9789e5cf",
   "metadata": {
    "tags": []
   },
   "outputs": [],
   "source": [
    "import torch\n",
    "import torch.nn as nn\n",
    "import torch.optim as optim\n",
    "from transformers import AutoImageProcessor, ResNetForImageClassification\n",
    "from sklearn.model_selection import StratifiedKFold\n",
    "from sklearn.metrics import accuracy_score, precision_score, recall_score, f1_score, roc_auc_score, roc_curve\n",
    "from torch.utils.data import DataLoader, TensorDataset, Subset, random_split, ConcatDataset, WeightedRandomSampler\n",
    "from torch.optim.lr_scheduler import CosineAnnealingLR\n",
    "import numpy as np\n",
    "from torchvision import datasets, transforms\n",
    "import matplotlib.pyplot as plt\n",
    "from tqdm import tqdm\n",
    "import zipfile\n",
    "import torch.nn.functional as F"
   ]
  },
  {
   "cell_type": "markdown",
   "id": "942e9f7d-faff-432c-9003-adcf56e823fb",
   "metadata": {
    "user_expressions": []
   },
   "source": [
    "## Model Creation"
   ]
  },
  {
   "cell_type": "markdown",
   "id": "47459a35-36c3-409a-a4a1-a71b704c3d3a",
   "metadata": {
    "user_expressions": []
   },
   "source": [
    "Create custom model"
   ]
  },
  {
   "cell_type": "code",
   "execution_count": 2,
   "id": "initial_id",
   "metadata": {
    "is_executing": true,
    "tags": []
   },
   "outputs": [],
   "source": [
    "class CustomCNNModel(nn.Module):\n",
    "    def __init__(self, num_classes=2):\n",
    "        super(CustomCNNModel, self).__init__()\n",
    "        \n",
    "        self.conv1 = nn.Conv2d(3, 32, kernel_size=3, stride=1, padding=1)\n",
    "        self.conv2 = nn.Conv2d(32, 64, kernel_size=3, stride=1, padding=1)\n",
    "        self.conv3 = nn.Conv2d(64, 128, kernel_size=3, stride=1, padding=1)\n",
    "        \n",
    "        self.pool = nn.MaxPool2d(2, 2)\n",
    "        \n",
    "        self.fc1 = nn.Linear(128 * 28 * 28, 512) \n",
    "        self.fc2 = nn.Linear(512, 256)  \n",
    "        self.fc3 = nn.Linear(256, num_classes)\n",
    "        \n",
    "        self.dropout = nn.Dropout(p=0.5) \n",
    "\n",
    "    def forward(self, x):\n",
    "        x = self.pool(F.relu(self.conv1(x))) \n",
    "        x = self.pool(F.relu(self.conv2(x)))\n",
    "        x = self.pool(F.relu(self.conv3(x)))\n",
    "        \n",
    "        x = x.view(-1, 128 * 28 * 28)\n",
    "        \n",
    "        x = F.relu(self.fc1(x))\n",
    "        x = self.dropout(x)\n",
    "        x = F.relu(self.fc2(x))\n",
    "        x = self.dropout(x)\n",
    "        x = self.fc3(x)\n",
    "        \n",
    "        return x\n",
    "\n",
    "num_classes = 2\n",
    "custom_model = CustomCNNModel(num_classes=num_classes)"
   ]
  },
  {
   "cell_type": "code",
   "execution_count": 3,
   "id": "b38600e3-5e17-4e42-b4c2-5fe5ac4dad9e",
   "metadata": {
    "tags": []
   },
   "outputs": [],
   "source": [
    "# for name, param in custom_model.named_parameters():\n",
    "#     if \"conv2\" in name: \n",
    "#         param.requires_grad = False\n",
    "#     else:\n",
    "#         param.requires_grad = True"
   ]
  },
  {
   "cell_type": "markdown",
   "id": "03fc50de-6657-4252-952c-dfe78f279926",
   "metadata": {
    "user_expressions": []
   },
   "source": [
    "Print the structure of the model"
   ]
  },
  {
   "cell_type": "code",
   "execution_count": 4,
   "id": "0adceead-62c7-4809-be2e-192722d068db",
   "metadata": {
    "scrolled": true,
    "tags": []
   },
   "outputs": [
    {
     "name": "stdout",
     "output_type": "stream",
     "text": [
      "CustomCNNModel(\n",
      "  (conv1): Conv2d(3, 32, kernel_size=(3, 3), stride=(1, 1), padding=(1, 1))\n",
      "  (conv2): Conv2d(32, 64, kernel_size=(3, 3), stride=(1, 1), padding=(1, 1))\n",
      "  (conv3): Conv2d(64, 128, kernel_size=(3, 3), stride=(1, 1), padding=(1, 1))\n",
      "  (pool): MaxPool2d(kernel_size=2, stride=2, padding=0, dilation=1, ceil_mode=False)\n",
      "  (fc1): Linear(in_features=100352, out_features=512, bias=True)\n",
      "  (fc2): Linear(in_features=512, out_features=256, bias=True)\n",
      "  (fc3): Linear(in_features=256, out_features=2, bias=True)\n",
      "  (dropout): Dropout(p=0.5, inplace=False)\n",
      ")\n"
     ]
    }
   ],
   "source": [
    "print(custom_model)"
   ]
  },
  {
   "cell_type": "markdown",
   "id": "4aca73b9-6df0-4bfc-88a6-01f4c2c92204",
   "metadata": {
    "user_expressions": []
   },
   "source": [
    "Print frozen and trainable parameters of model"
   ]
  },
  {
   "cell_type": "code",
   "execution_count": 5,
   "id": "3446a8b3-baae-41ed-8ffe-329b25501d89",
   "metadata": {
    "scrolled": true,
    "tags": []
   },
   "outputs": [
    {
     "name": "stdout",
     "output_type": "stream",
     "text": [
      "conv1.weight: Trainable\n",
      "conv1.bias: Trainable\n",
      "conv2.weight: Trainable\n",
      "conv2.bias: Trainable\n",
      "conv3.weight: Trainable\n",
      "conv3.bias: Trainable\n",
      "fc1.weight: Trainable\n",
      "fc1.bias: Trainable\n",
      "fc2.weight: Trainable\n",
      "fc2.bias: Trainable\n",
      "fc3.weight: Trainable\n",
      "fc3.bias: Trainable\n"
     ]
    }
   ],
   "source": [
    "for name, param in custom_model.named_parameters():\n",
    "    print(f\"{name}: {'Trainable' if param.requires_grad else 'Frozen'}\")"
   ]
  },
  {
   "cell_type": "markdown",
   "id": "34f785f4-a602-4e87-a40e-76e615c97b5f",
   "metadata": {
    "user_expressions": []
   },
   "source": [
    "## Dataset Retrieval"
   ]
  },
  {
   "cell_type": "markdown",
   "id": "c503c333-0fcc-47e1-9929-f354dbd79530",
   "metadata": {
    "user_expressions": []
   },
   "source": [
    "Retrieve dataset and compute X (data images in tensor format) and y (binary encoded label)"
   ]
  },
  {
   "cell_type": "code",
   "execution_count": 6,
   "id": "69181962-34ee-439c-8258-1c8316d14dcb",
   "metadata": {
    "tags": []
   },
   "outputs": [],
   "source": [
    "# with zipfile.ZipFile(\"preprocessed_medium.zip\", 'r') as zip_ref:\n",
    "#     zip_ref.extractall(\"\")"
   ]
  },
  {
   "cell_type": "code",
   "execution_count": 7,
   "id": "c6923176-d72e-4d0a-9def-1ea04e8e193b",
   "metadata": {
    "tags": []
   },
   "outputs": [],
   "source": [
    "transform = transforms.Compose([\n",
    "    # transforms.Resize((224, 224)),\n",
    "    transforms.ToTensor(),\n",
    "    # transforms.Normalize(mean=[0.485, 0.456, 0.406], std=[0.229, 0.224, 0.225])\n",
    "])\n",
    "\n",
    "adult_dataset = datasets.ImageFolder(root=\"data\", transform=transform)\n",
    "pediatric_dataset = datasets.ImageFolder(root=\"preprocessed_medium\", transform=transform)\n",
    "\n",
    "class_indices = {class_name: [] for class_name in pediatric_dataset.classes}\n",
    "for idx, (image, label) in enumerate(pediatric_dataset):\n",
    "    class_indices[pediatric_dataset.classes[label]].append(idx)\n",
    "\n",
    "train_indices = []\n",
    "test_indices = []\n",
    "\n",
    "for class_name in pediatric_dataset.classes:\n",
    "    indices = class_indices[class_name]\n",
    "    train_indices.extend(indices[:int(len(indices)*.25)])\n",
    "    test_indices.extend(indices[int(len(indices)*.25):])\n",
    "\n",
    "pediatric_train_dataset = Subset(pediatric_dataset, train_indices)\n",
    "pediatric_test_dataset = Subset(pediatric_dataset, test_indices)\n",
    "\n",
    "combined_train_dataset = ConcatDataset([adult_dataset, pediatric_train_dataset])"
   ]
  },
  {
   "cell_type": "code",
   "execution_count": 8,
   "id": "9eff6b65-7dce-4879-980b-166d123c7698",
   "metadata": {
    "tags": []
   },
   "outputs": [
    {
     "name": "stdout",
     "output_type": "stream",
     "text": [
      "Combined train dataset size: 2746\n",
      "Pediatric test dataset size: 300\n"
     ]
    }
   ],
   "source": [
    "print(f\"Combined train dataset size: {len(combined_train_dataset)}\")\n",
    "print(f\"Pediatric test dataset size: {len(pediatric_test_dataset)}\")"
   ]
  },
  {
   "cell_type": "code",
   "execution_count": 9,
   "id": "b310fef5-3924-4172-abd6-d0b51845d797",
   "metadata": {
    "tags": []
   },
   "outputs": [
    {
     "name": "stdout",
     "output_type": "stream",
     "text": [
      "Batch X shape: torch.Size([32, 3, 224, 224]), batch y shape: torch.Size([32])\n"
     ]
    }
   ],
   "source": [
    "def create_dynamic_sampler(epoch, total_epochs, adult_len, pediatric_len):\n",
    "    alpha = epoch / total_epochs\n",
    "    adult_weight = max(0.2, 1 - alpha)  # starts high, decreases\n",
    "    pediatric_weight = min(1.0, alpha + 0.5)  # starts low, increases\n",
    "    weights = ([adult_weight] * adult_len) + ([pediatric_weight] * pediatric_len)\n",
    "    return WeightedRandomSampler(weights, len(weights))\n",
    "\n",
    "num_epochs = 35\n",
    "sampler = create_dynamic_sampler(0, num_epochs, len(adult_dataset), len(pediatric_train_dataset))\n",
    "train_loader = DataLoader(combined_train_dataset, batch_size=32, sampler=sampler)\n",
    "test_loader = DataLoader(pediatric_test_dataset, batch_size=32, shuffle=True)\n",
    "\n",
    "for batch in train_loader:\n",
    "    X_batch, y_batch = batch\n",
    "    print(f\"Batch X shape: {X_batch.shape}, batch y shape: {y_batch.shape}\")\n",
    "    break"
   ]
  },
  {
   "cell_type": "markdown",
   "id": "92546f22-4911-4ea8-9279-01e91f1c6a0b",
   "metadata": {
    "user_expressions": []
   },
   "source": [
    "## Model Training And Evaluation"
   ]
  },
  {
   "cell_type": "code",
   "execution_count": 10,
   "id": "411cecee-aa86-477e-9921-245ae04476a3",
   "metadata": {
    "tags": []
   },
   "outputs": [],
   "source": [
    "device = torch.device(\"cuda\" if torch.cuda.is_available() else \"cpu\")\n",
    "# device = torch.device(\"cpu\")"
   ]
  },
  {
   "cell_type": "code",
   "execution_count": 11,
   "id": "29665582-9fc5-427e-9538-1cb4d502cc20",
   "metadata": {
    "tags": []
   },
   "outputs": [],
   "source": [
    "def train_model(model, train_loader, test_loader, criterion, optimizer, scheduler, num_epochs=10):\n",
    "    model.train()\n",
    "    train_losses = []\n",
    "    train_accuracies = []\n",
    "    test_losses = []\n",
    "    test_accuracies = []\n",
    "\n",
    "    print(f\"Device using for training: {device}\")\n",
    "    model = model.to(device)\n",
    "\n",
    "    for epoch in range(num_epochs):\n",
    "        running_loss = 0.0\n",
    "        correct = 0\n",
    "        total = 0\n",
    "\n",
    "        with tqdm(train_loader, unit=\"batch\", desc=f\"Epoch [{epoch+1}/{num_epochs}]\") as tbar:\n",
    "            for inputs, labels in tbar:\n",
    "                inputs, labels = inputs.to(device), labels.to(device)\n",
    "\n",
    "                outputs = model(inputs)\n",
    "                loss = criterion(outputs, labels)\n",
    "\n",
    "                optimizer.zero_grad()\n",
    "                loss.backward()\n",
    "                optimizer.step()\n",
    "\n",
    "                _, predicted = torch.max(outputs, 1)\n",
    "                total += labels.size(0)\n",
    "                correct += (predicted == labels).sum().item()\n",
    "\n",
    "                running_loss += loss.item()\n",
    "\n",
    "        epoch_loss = running_loss / len(train_loader)\n",
    "        epoch_accuracy = 100 * correct / total\n",
    "        train_losses.append(epoch_loss)\n",
    "        train_accuracies.append(epoch_accuracy)\n",
    "\n",
    "        test_loss, test_accuracy = evaluate_model(model, test_loader, criterion)\n",
    "        test_losses.append(test_loss)\n",
    "        test_accuracies.append(test_accuracy)\n",
    "        scheduler.step()\n",
    "\n",
    "        print(f\"Epoch [{epoch+1}/{num_epochs}], Train Loss: {epoch_loss:.4f}, Train Accuracy: {epoch_accuracy:.2f}%, Test Loss: {test_loss:.4f}, Test Accuracy: {test_accuracy:.2f}%\")\n",
    "\n",
    "    return train_losses, train_accuracies, test_losses, test_accuracies\n",
    "\n",
    "\n",
    "def evaluate_model(model, test_loader, criterion):\n",
    "    model.eval()\n",
    "    test_losses = []\n",
    "    correct = 0\n",
    "    total = 0\n",
    "\n",
    "    with torch.no_grad():\n",
    "        for inputs, labels in test_loader:\n",
    "            inputs, labels = inputs.to(device), labels.to(device)\n",
    "\n",
    "            outputs = model(inputs)\n",
    "            loss = criterion(outputs, labels)\n",
    "            test_losses.append(loss.item())\n",
    "\n",
    "            _, predicted = torch.max(outputs, 1)\n",
    "            total += labels.size(0)\n",
    "            correct += (predicted == labels).sum().item()\n",
    "\n",
    "    test_loss = sum(test_losses) / len(test_loader)\n",
    "    test_accuracy = 100 * correct / total\n",
    "    return test_loss, test_accuracy"
   ]
  },
  {
   "cell_type": "code",
   "execution_count": 12,
   "id": "b1eb14e9-8acd-4c4a-8d1f-81859621dde2",
   "metadata": {
    "scrolled": true,
    "tags": []
   },
   "outputs": [
    {
     "name": "stdout",
     "output_type": "stream",
     "text": [
      "Device using for training: cuda\n"
     ]
    },
    {
     "name": "stderr",
     "output_type": "stream",
     "text": [
      "Epoch [1/35]: 100%|██████████| 86/86 [00:16<00:00,  5.27batch/s]\n"
     ]
    },
    {
     "name": "stdout",
     "output_type": "stream",
     "text": [
      "Epoch [1/35], Train Loss: 0.6843, Train Accuracy: 55.94%, Test Loss: 0.6683, Test Accuracy: 56.33%\n"
     ]
    },
    {
     "name": "stderr",
     "output_type": "stream",
     "text": [
      "Epoch [2/35]: 100%|██████████| 86/86 [00:14<00:00,  5.91batch/s]\n"
     ]
    },
    {
     "name": "stdout",
     "output_type": "stream",
     "text": [
      "Epoch [2/35], Train Loss: 0.6463, Train Accuracy: 63.36%, Test Loss: 0.6938, Test Accuracy: 54.33%\n"
     ]
    },
    {
     "name": "stderr",
     "output_type": "stream",
     "text": [
      "Epoch [3/35]: 100%|██████████| 86/86 [00:14<00:00,  5.91batch/s]\n"
     ]
    },
    {
     "name": "stdout",
     "output_type": "stream",
     "text": [
      "Epoch [3/35], Train Loss: 0.6298, Train Accuracy: 66.24%, Test Loss: 0.6906, Test Accuracy: 55.00%\n"
     ]
    },
    {
     "name": "stderr",
     "output_type": "stream",
     "text": [
      "Epoch [4/35]: 100%|██████████| 86/86 [00:14<00:00,  5.94batch/s]\n"
     ]
    },
    {
     "name": "stdout",
     "output_type": "stream",
     "text": [
      "Epoch [4/35], Train Loss: 0.6218, Train Accuracy: 67.26%, Test Loss: 0.6483, Test Accuracy: 56.67%\n"
     ]
    },
    {
     "name": "stderr",
     "output_type": "stream",
     "text": [
      "Epoch [5/35]: 100%|██████████| 86/86 [00:14<00:00,  6.05batch/s]\n"
     ]
    },
    {
     "name": "stdout",
     "output_type": "stream",
     "text": [
      "Epoch [5/35], Train Loss: 0.6019, Train Accuracy: 68.28%, Test Loss: 0.6582, Test Accuracy: 55.00%\n"
     ]
    },
    {
     "name": "stderr",
     "output_type": "stream",
     "text": [
      "Epoch [6/35]: 100%|██████████| 86/86 [00:14<00:00,  5.98batch/s]\n"
     ]
    },
    {
     "name": "stdout",
     "output_type": "stream",
     "text": [
      "Epoch [6/35], Train Loss: 0.6077, Train Accuracy: 67.48%, Test Loss: 0.7566, Test Accuracy: 53.00%\n"
     ]
    },
    {
     "name": "stderr",
     "output_type": "stream",
     "text": [
      "Epoch [7/35]: 100%|██████████| 86/86 [00:14<00:00,  6.06batch/s]\n"
     ]
    },
    {
     "name": "stdout",
     "output_type": "stream",
     "text": [
      "Epoch [7/35], Train Loss: 0.5851, Train Accuracy: 69.74%, Test Loss: 0.6355, Test Accuracy: 61.00%\n"
     ]
    },
    {
     "name": "stderr",
     "output_type": "stream",
     "text": [
      "Epoch [8/35]: 100%|██████████| 86/86 [00:14<00:00,  5.82batch/s]\n"
     ]
    },
    {
     "name": "stdout",
     "output_type": "stream",
     "text": [
      "Epoch [8/35], Train Loss: 0.5961, Train Accuracy: 69.26%, Test Loss: 0.6479, Test Accuracy: 57.67%\n"
     ]
    },
    {
     "name": "stderr",
     "output_type": "stream",
     "text": [
      "Epoch [9/35]: 100%|██████████| 86/86 [00:14<00:00,  5.95batch/s]\n"
     ]
    },
    {
     "name": "stdout",
     "output_type": "stream",
     "text": [
      "Epoch [9/35], Train Loss: 0.5748, Train Accuracy: 70.87%, Test Loss: 0.6914, Test Accuracy: 55.33%\n"
     ]
    },
    {
     "name": "stderr",
     "output_type": "stream",
     "text": [
      "Epoch [10/35]: 100%|██████████| 86/86 [00:14<00:00,  6.05batch/s]\n"
     ]
    },
    {
     "name": "stdout",
     "output_type": "stream",
     "text": [
      "Epoch [10/35], Train Loss: 0.5818, Train Accuracy: 69.99%, Test Loss: 0.6197, Test Accuracy: 64.33%\n"
     ]
    },
    {
     "name": "stderr",
     "output_type": "stream",
     "text": [
      "Epoch [11/35]: 100%|██████████| 86/86 [00:14<00:00,  6.11batch/s]\n"
     ]
    },
    {
     "name": "stdout",
     "output_type": "stream",
     "text": [
      "Epoch [11/35], Train Loss: 0.5697, Train Accuracy: 71.19%, Test Loss: 0.6685, Test Accuracy: 61.67%\n"
     ]
    },
    {
     "name": "stderr",
     "output_type": "stream",
     "text": [
      "Epoch [12/35]: 100%|██████████| 86/86 [00:13<00:00,  6.15batch/s]\n"
     ]
    },
    {
     "name": "stdout",
     "output_type": "stream",
     "text": [
      "Epoch [12/35], Train Loss: 0.5714, Train Accuracy: 70.65%, Test Loss: 0.5902, Test Accuracy: 66.33%\n"
     ]
    },
    {
     "name": "stderr",
     "output_type": "stream",
     "text": [
      "Epoch [13/35]: 100%|██████████| 86/86 [00:14<00:00,  6.08batch/s]\n"
     ]
    },
    {
     "name": "stdout",
     "output_type": "stream",
     "text": [
      "Epoch [13/35], Train Loss: 0.5559, Train Accuracy: 71.45%, Test Loss: 0.6792, Test Accuracy: 61.67%\n"
     ]
    },
    {
     "name": "stderr",
     "output_type": "stream",
     "text": [
      "Epoch [14/35]: 100%|██████████| 86/86 [00:14<00:00,  6.11batch/s]\n"
     ]
    },
    {
     "name": "stdout",
     "output_type": "stream",
     "text": [
      "Epoch [14/35], Train Loss: 0.5563, Train Accuracy: 72.32%, Test Loss: 0.6778, Test Accuracy: 57.67%\n"
     ]
    },
    {
     "name": "stderr",
     "output_type": "stream",
     "text": [
      "Epoch [15/35]: 100%|██████████| 86/86 [00:14<00:00,  6.14batch/s]\n"
     ]
    },
    {
     "name": "stdout",
     "output_type": "stream",
     "text": [
      "Epoch [15/35], Train Loss: 0.5479, Train Accuracy: 72.36%, Test Loss: 0.6685, Test Accuracy: 61.33%\n"
     ]
    },
    {
     "name": "stderr",
     "output_type": "stream",
     "text": [
      "Epoch [16/35]: 100%|██████████| 86/86 [00:14<00:00,  6.10batch/s]\n"
     ]
    },
    {
     "name": "stdout",
     "output_type": "stream",
     "text": [
      "Epoch [16/35], Train Loss: 0.5263, Train Accuracy: 74.25%, Test Loss: 0.6708, Test Accuracy: 62.33%\n"
     ]
    },
    {
     "name": "stderr",
     "output_type": "stream",
     "text": [
      "Epoch [17/35]: 100%|██████████| 86/86 [00:14<00:00,  6.07batch/s]\n"
     ]
    },
    {
     "name": "stdout",
     "output_type": "stream",
     "text": [
      "Epoch [17/35], Train Loss: 0.5162, Train Accuracy: 74.33%, Test Loss: 0.6488, Test Accuracy: 63.33%\n"
     ]
    },
    {
     "name": "stderr",
     "output_type": "stream",
     "text": [
      "Epoch [18/35]: 100%|██████████| 86/86 [00:14<00:00,  6.00batch/s]\n"
     ]
    },
    {
     "name": "stdout",
     "output_type": "stream",
     "text": [
      "Epoch [18/35], Train Loss: 0.5111, Train Accuracy: 75.67%, Test Loss: 0.7026, Test Accuracy: 61.00%\n"
     ]
    },
    {
     "name": "stderr",
     "output_type": "stream",
     "text": [
      "Epoch [19/35]: 100%|██████████| 86/86 [00:14<00:00,  5.92batch/s]\n"
     ]
    },
    {
     "name": "stdout",
     "output_type": "stream",
     "text": [
      "Epoch [19/35], Train Loss: 0.5078, Train Accuracy: 76.29%, Test Loss: 0.7012, Test Accuracy: 62.33%\n"
     ]
    },
    {
     "name": "stderr",
     "output_type": "stream",
     "text": [
      "Epoch [20/35]: 100%|██████████| 86/86 [00:14<00:00,  6.06batch/s]\n"
     ]
    },
    {
     "name": "stdout",
     "output_type": "stream",
     "text": [
      "Epoch [20/35], Train Loss: 0.4730, Train Accuracy: 78.08%, Test Loss: 0.6337, Test Accuracy: 65.67%\n"
     ]
    },
    {
     "name": "stderr",
     "output_type": "stream",
     "text": [
      "Epoch [21/35]: 100%|██████████| 86/86 [00:14<00:00,  6.01batch/s]\n"
     ]
    },
    {
     "name": "stdout",
     "output_type": "stream",
     "text": [
      "Epoch [21/35], Train Loss: 0.4594, Train Accuracy: 79.39%, Test Loss: 0.9418, Test Accuracy: 55.00%\n"
     ]
    },
    {
     "name": "stderr",
     "output_type": "stream",
     "text": [
      "Epoch [22/35]: 100%|██████████| 86/86 [00:14<00:00,  6.04batch/s]\n"
     ]
    },
    {
     "name": "stdout",
     "output_type": "stream",
     "text": [
      "Epoch [22/35], Train Loss: 0.4304, Train Accuracy: 80.77%, Test Loss: 0.7675, Test Accuracy: 59.33%\n"
     ]
    },
    {
     "name": "stderr",
     "output_type": "stream",
     "text": [
      "Epoch [23/35]: 100%|██████████| 86/86 [00:14<00:00,  5.93batch/s]\n"
     ]
    },
    {
     "name": "stdout",
     "output_type": "stream",
     "text": [
      "Epoch [23/35], Train Loss: 0.4292, Train Accuracy: 81.61%, Test Loss: 0.6470, Test Accuracy: 66.00%\n"
     ]
    },
    {
     "name": "stderr",
     "output_type": "stream",
     "text": [
      "Epoch [24/35]: 100%|██████████| 86/86 [00:14<00:00,  5.91batch/s]\n"
     ]
    },
    {
     "name": "stdout",
     "output_type": "stream",
     "text": [
      "Epoch [24/35], Train Loss: 0.4069, Train Accuracy: 82.96%, Test Loss: 0.6610, Test Accuracy: 65.67%\n"
     ]
    },
    {
     "name": "stderr",
     "output_type": "stream",
     "text": [
      "Epoch [25/35]: 100%|██████████| 86/86 [00:14<00:00,  5.76batch/s]\n"
     ]
    },
    {
     "name": "stdout",
     "output_type": "stream",
     "text": [
      "Epoch [25/35], Train Loss: 0.3799, Train Accuracy: 84.05%, Test Loss: 0.6851, Test Accuracy: 65.67%\n"
     ]
    },
    {
     "name": "stderr",
     "output_type": "stream",
     "text": [
      "Epoch [26/35]: 100%|██████████| 86/86 [00:15<00:00,  5.65batch/s]\n"
     ]
    },
    {
     "name": "stdout",
     "output_type": "stream",
     "text": [
      "Epoch [26/35], Train Loss: 0.3773, Train Accuracy: 83.94%, Test Loss: 0.8747, Test Accuracy: 58.67%\n"
     ]
    },
    {
     "name": "stderr",
     "output_type": "stream",
     "text": [
      "Epoch [27/35]: 100%|██████████| 86/86 [00:14<00:00,  5.77batch/s]\n"
     ]
    },
    {
     "name": "stdout",
     "output_type": "stream",
     "text": [
      "Epoch [27/35], Train Loss: 0.3633, Train Accuracy: 85.29%, Test Loss: 0.5940, Test Accuracy: 69.00%\n"
     ]
    },
    {
     "name": "stderr",
     "output_type": "stream",
     "text": [
      "Epoch [28/35]: 100%|██████████| 86/86 [00:14<00:00,  5.81batch/s]\n"
     ]
    },
    {
     "name": "stdout",
     "output_type": "stream",
     "text": [
      "Epoch [28/35], Train Loss: 0.3818, Train Accuracy: 84.52%, Test Loss: 0.6110, Test Accuracy: 68.67%\n"
     ]
    },
    {
     "name": "stderr",
     "output_type": "stream",
     "text": [
      "Epoch [29/35]: 100%|██████████| 86/86 [00:14<00:00,  6.04batch/s]\n"
     ]
    },
    {
     "name": "stdout",
     "output_type": "stream",
     "text": [
      "Epoch [29/35], Train Loss: 0.3644, Train Accuracy: 85.14%, Test Loss: 0.7028, Test Accuracy: 64.00%\n"
     ]
    },
    {
     "name": "stderr",
     "output_type": "stream",
     "text": [
      "Epoch [30/35]: 100%|██████████| 86/86 [00:14<00:00,  6.13batch/s]\n"
     ]
    },
    {
     "name": "stdout",
     "output_type": "stream",
     "text": [
      "Epoch [30/35], Train Loss: 0.3406, Train Accuracy: 87.44%, Test Loss: 0.6423, Test Accuracy: 68.33%\n"
     ]
    },
    {
     "name": "stderr",
     "output_type": "stream",
     "text": [
      "Epoch [31/35]: 100%|██████████| 86/86 [00:14<00:00,  6.07batch/s]\n"
     ]
    },
    {
     "name": "stdout",
     "output_type": "stream",
     "text": [
      "Epoch [31/35], Train Loss: 0.3435, Train Accuracy: 86.82%, Test Loss: 0.6781, Test Accuracy: 65.33%\n"
     ]
    },
    {
     "name": "stderr",
     "output_type": "stream",
     "text": [
      "Epoch [32/35]: 100%|██████████| 86/86 [00:14<00:00,  6.03batch/s]\n"
     ]
    },
    {
     "name": "stdout",
     "output_type": "stream",
     "text": [
      "Epoch [32/35], Train Loss: 0.3361, Train Accuracy: 87.33%, Test Loss: 0.6399, Test Accuracy: 68.00%\n"
     ]
    },
    {
     "name": "stderr",
     "output_type": "stream",
     "text": [
      "Epoch [33/35]: 100%|██████████| 86/86 [00:14<00:00,  6.06batch/s]\n"
     ]
    },
    {
     "name": "stdout",
     "output_type": "stream",
     "text": [
      "Epoch [33/35], Train Loss: 0.3269, Train Accuracy: 88.09%, Test Loss: 0.6415, Test Accuracy: 67.67%\n"
     ]
    },
    {
     "name": "stderr",
     "output_type": "stream",
     "text": [
      "Epoch [34/35]: 100%|██████████| 86/86 [00:14<00:00,  6.05batch/s]\n"
     ]
    },
    {
     "name": "stdout",
     "output_type": "stream",
     "text": [
      "Epoch [34/35], Train Loss: 0.3295, Train Accuracy: 87.44%, Test Loss: 0.6488, Test Accuracy: 67.67%\n"
     ]
    },
    {
     "name": "stderr",
     "output_type": "stream",
     "text": [
      "Epoch [35/35]: 100%|██████████| 86/86 [00:13<00:00,  6.17batch/s]\n"
     ]
    },
    {
     "name": "stdout",
     "output_type": "stream",
     "text": [
      "Epoch [35/35], Train Loss: 0.3295, Train Accuracy: 87.76%, Test Loss: 0.6204, Test Accuracy: 67.67%\n"
     ]
    }
   ],
   "source": [
    "criterion = nn.CrossEntropyLoss()\n",
    "optimizer = optim.Adam(custom_model.parameters(), lr=5e-5, weight_decay=5e-3)\n",
    "\n",
    "scheduler = CosineAnnealingLR(optimizer, T_max=num_epochs)\n",
    "train_losses, train_accuracies, test_losses, test_accuracies = train_model(custom_model, train_loader, test_loader, criterion, optimizer, scheduler, num_epochs)"
   ]
  },
  {
   "cell_type": "markdown",
   "id": "5e15f106-e946-445b-bd9e-6094f5358a42",
   "metadata": {
    "user_expressions": []
   },
   "source": [
    "## Model Evaluation"
   ]
  },
  {
   "cell_type": "code",
   "execution_count": 13,
   "id": "ac3fcfd1-33fc-4d32-b84f-1bb7b37d4879",
   "metadata": {
    "tags": []
   },
   "outputs": [
    {
     "data": {
      "image/png": "[encoded data removed]",
      "text/plain": [
       "<Figure size 1200x600 with 2 Axes>"
      ]
     },
     "metadata": {},
     "output_type": "display_data"
    }
   ],
   "source": [
    "epochs = range(1, num_epochs + 1)\n",
    "\n",
    "plt.figure(figsize=(12, 6))\n",
    "\n",
    "plt.subplot(1, 2, 1)\n",
    "plt.plot(epochs, train_losses, label=\"Train Loss\")\n",
    "plt.plot(epochs, test_losses, label=\"Test Loss\", color=\"r\")\n",
    "plt.title(\"Loss\")\n",
    "plt.xlabel(\"Epochs\")\n",
    "plt.ylabel(\"Loss\")\n",
    "plt.legend()\n",
    "\n",
    "plt.subplot(1, 2, 2)\n",
    "plt.plot(epochs, train_accuracies, label=\"Train Accuracy\")\n",
    "plt.plot(epochs, test_accuracies, label=\"Test Accuracy\", color=\"r\")\n",
    "plt.title(\"Accuracy\")\n",
    "plt.xlabel(\"Epochs\")\n",
    "plt.ylabel(\"Accuracy (%)\")\n",
    "plt.legend()\n",
    "\n",
    "plt.tight_layout()\n",
    "plt.show()"
   ]
  },
  {
   "cell_type": "code",
   "execution_count": 16,
   "id": "b7a06ddd-ce59-4d3b-a412-a36a1bf7088d",
   "metadata": {},
   "outputs": [
    {
     "name": "stdout",
     "output_type": "stream",
     "text": [
      "Accuracy: 0.6767\n",
      "Precision: 0.7494\n",
      "Recall: 0.6767\n",
      "F1 Score: 0.6512\n"
     ]
    }
   ],
   "source": [
    "custom_model.eval()\n",
    "\n",
    "all_preds = []\n",
    "all_labels = []\n",
    "\n",
    "with torch.no_grad():\n",
    "    for inputs, labels in test_loader:\n",
    "        inputs = inputs.to(device)\n",
    "        labels = labels.to(device)\n",
    "\n",
    "        outputs = custom_model(inputs)\n",
    "        _, predicted = torch.max(outputs, 1)\n",
    "        \n",
    "        all_preds.extend(predicted.cpu().numpy())\n",
    "        all_labels.extend(labels.cpu().numpy())\n",
    "\n",
    "all_preds = np.array(all_preds)\n",
    "all_labels = np.array(all_labels)\n",
    "\n",
    "accuracy = accuracy_score(all_labels, all_preds)\n",
    "precision = precision_score(all_labels, all_preds, average='weighted')\n",
    "recall = recall_score(all_labels, all_preds, average='weighted')\n",
    "f1 = f1_score(all_labels, all_preds, average='weighted')\n",
    "\n",
    "print(f\"Accuracy: {accuracy:.4f}\")\n",
    "print(f\"Precision: {precision:.4f}\")\n",
    "print(f\"Recall: {recall:.4f}\")\n",
    "print(f\"F1 Score: {f1:.4f}\")"
   ]
  },
  {
   "cell_type": "code",
   "execution_count": null,
   "id": "d75e6d98-8ece-4c67-b6bc-315c8b1079df",
   "metadata": {},
   "outputs": [],
   "source": []
  }
 ],
 "metadata": {
  "kernelspec": {
   "display_name": "Python 3 (ipykernel)",
   "language": "python",
   "name": "python3"
  },
  "language_info": {
   "codemirror_mode": {
    "name": "ipython",
    "version": 3
   },
   "file_extension": ".py",
   "mimetype": "text/x-python",
   "name": "python",
   "nbconvert_exporter": "python",
   "pygments_lexer": "ipython3",
   "version": "3.11.0"
  }
 },
 "nbformat": 4,
 "nbformat_minor": 5
}
